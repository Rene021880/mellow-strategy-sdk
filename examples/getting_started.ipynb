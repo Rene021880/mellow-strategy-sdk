{
 "cells": [
  {
   "cell_type": "code",
   "execution_count": null,
   "id": "6a7b6f18",
   "metadata": {
    "pycharm": {
     "name": "#%%\n"
    }
   },
   "outputs": [],
   "source": [
    "import os\n",
    "import sys\n",
    "\n",
    "root = os.path.split(os.getcwd())[0]\n",
    "if root not in sys.path:\n",
    "    sys.path.append(root)"
   ]
  },
  {
   "cell_type": "code",
   "execution_count": null,
   "id": "c1a593e8",
   "metadata": {
    "pycharm": {
     "name": "#%%\n"
    }
   },
   "outputs": [],
   "source": [
    "from strategy.primitives import Pool, Token, Fee\n",
    "from strategy.utils import ROOT_DIR, CONFIG_PATH, DATA_DIR\n",
    "from strategy.data import RawDataUniV3\n",
    "from strategy.strategies import AbstractStrategy, UniV3Passive\n",
    "from strategy.uniswap_utils import UniswapLiquidityAligner\n",
    "from strategy.positions import UniV3Position\n",
    "from strategy.backtest import Backtest\n",
    "from strategy.viewers import RebalanceViewer, UniswapViewer, PortfolioViewer"
   ]
  },
  {
   "cell_type": "markdown",
   "id": "94934200",
   "metadata": {},
   "source": [
    "### Load Data"
   ]
  },
  {
   "cell_type": "code",
   "execution_count": null,
   "id": "2ee269c0",
   "metadata": {},
   "outputs": [],
   "source": [
    "pool = Pool(Token.WBTC, Token.WETH, Fee.MIDDLE)\n",
    "data = RawDataUniV3(pool, DATA_DIR).load_from_folder()"
   ]
  },
  {
   "cell_type": "markdown",
   "id": "59be41ce",
   "metadata": {},
   "source": [
    "### Init strategy"
   ]
  },
  {
   "cell_type": "code",
   "execution_count": null,
   "id": "f111496c",
   "metadata": {},
   "outputs": [],
   "source": [
    "univ3_passive = UniV3Passive(\n",
    "    lower_price=data.swaps['price'].min() + 1,\n",
    "    upper_price=data.swaps['price'].max() - 1,\n",
    "    pool=pool,\n",
    "    gas_cost=0.,\n",
    "    name='passive'\n",
    ")\n"
   ]
  },
  {
   "cell_type": "markdown",
   "id": "cdceb8ec",
   "metadata": {},
   "source": [
    "### Backtest strategy"
   ]
  },
  {
   "cell_type": "code",
   "execution_count": null,
   "id": "ec9612b0",
   "metadata": {},
   "outputs": [],
   "source": [
    "b = Backtest(univ3_passive)\n",
    "portfolio_history, rebalance_history, uni_history = b.backtest(data.swaps)"
   ]
  },
  {
   "cell_type": "markdown",
   "id": "a8ab1681",
   "metadata": {},
   "source": [
    "### Visualise results"
   ]
  },
  {
   "cell_type": "code",
   "execution_count": null,
   "id": "f356d4c3",
   "metadata": {},
   "outputs": [],
   "source": [
    "rv = RebalanceViewer(rebalance_history)\n",
    "uv = UniswapViewer(uni_history)\n",
    "pv = PortfolioViewer(portfolio_history, pool)\n",
    "\n",
    "# Draw portfolio stats, like value, fees earned, apy\n",
    "fig1, fig2, fig3, fig4, fig5, fig6 = pv.draw_portfolio()\n",
    "\n",
    "# Draw Uniswap intervals\n",
    "intervals_plot = uv.draw_intervals(data.swaps)\n",
    "\n",
    "# Draw rebalances\n",
    "rebalances_plot = rv.draw_rebalances(data.swaps)\n",
    "\n",
    "# Calculate df with portfolio stats\n",
    "stats = portfolio_history.calculate_stats()"
   ]
  },
  {
   "cell_type": "markdown",
   "id": "00ef8625",
   "metadata": {},
   "source": [
    "### UniswapV3 Intervals"
   ]
  },
  {
   "cell_type": "code",
   "execution_count": null,
   "id": "fbf7d483",
   "metadata": {},
   "outputs": [],
   "source": [
    "intervals_plot"
   ]
  },
  {
   "cell_type": "markdown",
   "id": "5ab4631e",
   "metadata": {},
   "source": [
    "### Strategy actions"
   ]
  },
  {
   "cell_type": "code",
   "execution_count": null,
   "id": "93fcf832",
   "metadata": {},
   "outputs": [],
   "source": [
    "rebalances_plot"
   ]
  },
  {
   "cell_type": "markdown",
   "id": "72df394f",
   "metadata": {},
   "source": [
    "### Portfolio stats"
   ]
  },
  {
   "cell_type": "code",
   "execution_count": null,
   "id": "a5447b90",
   "metadata": {},
   "outputs": [],
   "source": [
    "fig1"
   ]
  },
  {
   "cell_type": "code",
   "execution_count": null,
   "id": "d0208337",
   "metadata": {},
   "outputs": [],
   "source": [
    "fig2"
   ]
  },
  {
   "cell_type": "code",
   "execution_count": null,
   "id": "a5b02322",
   "metadata": {},
   "outputs": [],
   "source": [
    "fig3"
   ]
  },
  {
   "cell_type": "code",
   "execution_count": null,
   "id": "de1777ea",
   "metadata": {},
   "outputs": [],
   "source": [
    "fig4"
   ]
  },
  {
   "cell_type": "code",
   "execution_count": null,
   "id": "77ec0769",
   "metadata": {},
   "outputs": [],
   "source": [
    "fig5"
   ]
  },
  {
   "cell_type": "code",
   "execution_count": null,
   "id": "55812be1",
   "metadata": {},
   "outputs": [],
   "source": [
    "fig6"
   ]
  },
  {
   "cell_type": "code",
   "execution_count": null,
   "id": "22fef9b3",
   "metadata": {},
   "outputs": [],
   "source": [
    "stats.tail()"
   ]
  },
  {
   "cell_type": "code",
   "execution_count": null,
   "id": "993d8247",
   "metadata": {},
   "outputs": [],
   "source": []
  }
 ],
 "metadata": {
  "kernelspec": {
   "display_name": "Python 3 (ipykernel)",
   "language": "python",
   "name": "python3"
  },
  "language_info": {
   "codemirror_mode": {
    "name": "ipython",
    "version": 3
   },
   "file_extension": ".py",
   "mimetype": "text/x-python",
   "name": "python",
   "nbconvert_exporter": "python",
   "pygments_lexer": "ipython3",
   "version": "3.8.10"
  }
 },
 "nbformat": 4,
 "nbformat_minor": 5
}
