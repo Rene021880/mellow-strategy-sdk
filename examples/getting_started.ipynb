{
 "cells": [
  {
   "cell_type": "code",
   "execution_count": 1,
   "id": "6a7b6f18",
   "metadata": {
    "pycharm": {
     "name": "#%%\n"
    }
   },
   "outputs": [],
   "source": [
    "import os\n",
    "import sys\n",
    "\n",
    "root = os.path.split(os.getcwd())[0]\n",
    "if root not in sys.path:\n",
    "    sys.path.append(root)"
   ]
  },
  {
   "cell_type": "code",
   "execution_count": 2,
   "id": "c1a593e8",
   "metadata": {
    "pycharm": {
     "name": "#%%\n"
    }
   },
   "outputs": [],
   "source": [
    "from strategy.primitives import POOLS, Pool\n",
    "pool_num = 1\n",
    "pool = Pool(\n",
    "    tokenA=POOLS[pool_num]['token0'],\n",
    "    tokenB=POOLS[pool_num]['token1'],\n",
    "    fee=POOLS[pool_num]['fee']\n",
    ")"
   ]
  },
  {
   "cell_type": "code",
   "execution_count": null,
   "id": "9c501d8c",
   "metadata": {},
   "outputs": [
    {
     "name": "stdout",
     "output_type": "stream",
     "text": [
      "get burn\n",
      "saved to burn_WBTC_WETH_3000.csv\n",
      "get mint\n",
      "saved to mint_WBTC_WETH_3000.csv\n",
      "get swap\n"
     ]
    }
   ],
   "source": [
    "from strategy.data import DownloaderRawDataUniV3\n",
    "# downloads mint, burn, swap for the pool, this needs to be done once the files are added to ../data/\n",
    "# ~5min\n",
    "DownloaderRawDataUniV3().load_events(pool_num)"
   ]
  },
  {
   "cell_type": "code",
   "execution_count": null,
   "id": "2ee269c0",
   "metadata": {},
   "outputs": [],
   "source": [
    "from strategy.data import RawDataUniV3\n",
    "data = RawDataUniV3(pool).load_from_folder()"
   ]
  },
  {
   "cell_type": "code",
   "execution_count": null,
   "id": "183cfd95",
   "metadata": {},
   "outputs": [],
   "source": [
    "from strategy.strategies import AbstractStrategy\n",
    "from strategy.uniswap_utils import UniswapLiquidityAligner\n",
    "from strategy.positions import UniV3Position\n",
    "\n",
    "class UniV3Passive(AbstractStrategy):\n",
    "    \"\"\"\n",
    "    ``UniV3Passive`` is the passive strategy on UniswapV3 without rebalances.\n",
    "        i.e. mint interval and wait.\n",
    "        lower_price: Lower bound of the interval\n",
    "        upper_price: Upper bound of the interval\n",
    "        rebalance_cost: Rebalancing cost, expressed in currency\n",
    "        pool: UniswapV3 Pool instance\n",
    "        name: Unique name for the instance\n",
    "    \"\"\"\n",
    "    def __init__(self,\n",
    "                 lower_price: float,\n",
    "                 upper_price: float,\n",
    "                 pool: Pool,\n",
    "                 rebalance_cost: float,\n",
    "                 name: str = None,\n",
    "                 ):\n",
    "        super().__init__(name)\n",
    "        self.lower_price = lower_price\n",
    "        self.upper_price = upper_price\n",
    "        self.decimal_diff = -pool.decimals_diff\n",
    "        self.fee_percent = pool.fee.percent\n",
    "        self.rebalance_cost = rebalance_cost\n",
    "\n",
    "    def rebalance(self, *args, **kwargs) -> str:\n",
    "        timestamp = kwargs['timestamp']\n",
    "        row = kwargs['row']\n",
    "        portfolio = kwargs['portfolio']\n",
    "        price_before, price = row['price_before'], row['price']\n",
    "\n",
    "        \n",
    "        if len(portfolio.positions) == 0:\n",
    "            univ3_pos = self.create_uni_position(price)\n",
    "            portfolio.append(univ3_pos)\n",
    "            return 'mint'\n",
    "        \n",
    "        uni_pos = portfolio.get_position('UniV3Passive')\n",
    "        uni_pos.charge_fees(price_before, price)\n",
    "\n",
    "\n",
    "    def create_uni_position(self, price):\n",
    "        univ3_pos = UniV3Position('UniV3Passive', self.lower_price, self.upper_price, self.fee_percent, self.rebalance_cost)\n",
    "        x_uni_aligned, y_uni_aligned = univ3_pos.swap_to_optimal(x=1 / price, y=1, price=price)\n",
    "        univ3_pos.deposit(x=x_uni_aligned, y=y_uni_aligned, price=price)\n",
    "        return univ3_pos"
   ]
  },
  {
   "cell_type": "code",
   "execution_count": null,
   "id": "f111496c",
   "metadata": {},
   "outputs": [],
   "source": [
    "from strategy.backtest import Backtest\n",
    "\n",
    "univ3_passive = UniV3Passive(\n",
    "    lower_price=data.swaps['price'].min() + 1,\n",
    "    upper_price=data.swaps['price'].max() - 1,\n",
    "    pool=pool,\n",
    "    rebalance_cost=0.,\n",
    "    name='passive'\n",
    ")\n",
    "b = Backtest(univ3_passive)\n",
    "portfolio_history, rebalance_history, uni_history = b.backtest(data.swaps)"
   ]
  },
  {
   "cell_type": "code",
   "execution_count": null,
   "id": "f356d4c3",
   "metadata": {},
   "outputs": [],
   "source": [
    "from strategy.viewers import RebalanceViewer, UniswapViewer, PotrfolioViewer\n",
    "\n",
    "import plotly.graph_objects as go\n",
    "from plotly.subplots import make_subplots\n",
    "import plotly.express as px\n",
    "import plotly\n",
    "\n",
    "rv = RebalanceViewer(rebalance_history)\n",
    "uv = UniswapViewer(uni_history)\n",
    "pv = PotrfolioViewer(portfolio_history, pool)\n",
    "\n",
    "# Draw portfolio stats, like value, fees earned, apy\n",
    "fig1, fig2, fig3, fig4, fig5, fig6 = pv.draw_portfolio()\n",
    "\n",
    "# Draw Uniswap intervals\n",
    "intervals_plot = uv.draw_intervals(data.swaps)\n",
    "\n",
    "# Draw rebalances\n",
    "rebalances_plot = rv.draw_rebalances(data.swaps)\n",
    "\n",
    "# Calculate df with portfolio stats\n",
    "stats = portfolio_history.calculate_stats()"
   ]
  },
  {
   "cell_type": "code",
   "execution_count": null,
   "id": "fbf7d483",
   "metadata": {},
   "outputs": [],
   "source": [
    "intervals_plot.update_layout(height=300, width=800)"
   ]
  },
  {
   "cell_type": "code",
   "execution_count": null,
   "id": "93fcf832",
   "metadata": {},
   "outputs": [],
   "source": [
    "rebalances_plot.update_layout(height=300, width=800)"
   ]
  },
  {
   "cell_type": "code",
   "execution_count": null,
   "id": "d0208337",
   "metadata": {},
   "outputs": [],
   "source": [
    "fig2.update_layout(height=300, width=800)"
   ]
  },
  {
   "cell_type": "code",
   "execution_count": null,
   "id": "de1777ea",
   "metadata": {},
   "outputs": [],
   "source": [
    "fig4.update_layout(height=300, width=800)"
   ]
  },
  {
   "cell_type": "code",
   "execution_count": null,
   "id": "55812be1",
   "metadata": {},
   "outputs": [],
   "source": [
    "fig6.update_layout(height=300, width=800)"
   ]
  },
  {
   "cell_type": "code",
   "execution_count": null,
   "id": "22fef9b3",
   "metadata": {},
   "outputs": [],
   "source": [
    "stats.tail(3)"
   ]
  },
  {
   "cell_type": "code",
   "execution_count": null,
   "id": "0cdf8d67",
   "metadata": {},
   "outputs": [],
   "source": [
    "stats.tail(3).to_csv('stats.csv')"
   ]
  }
 ],
 "metadata": {
  "kernelspec": {
   "display_name": "Python 3 (ipykernel)",
   "language": "python",
   "name": "python3"
  },
  "language_info": {
   "codemirror_mode": {
    "name": "ipython",
    "version": 3
   },
   "file_extension": ".py",
   "mimetype": "text/x-python",
   "name": "python",
   "nbconvert_exporter": "python",
   "pygments_lexer": "ipython3",
   "version": "3.9.7"
  }
 },
 "nbformat": 4,
 "nbformat_minor": 5
}