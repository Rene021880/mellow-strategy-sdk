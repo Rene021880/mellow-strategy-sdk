{
 "cells": [
  {
   "cell_type": "code",
   "execution_count": 8,
   "id": "c57c89ed",
   "metadata": {},
   "outputs": [],
   "source": [
    "import pandas as pd\n",
    "import polars as pl\n",
    "pd.set_option('display.max_colwidth', 70) # чтобы влезали хеши\n",
    "\n",
    "\n",
    "import numpy as np\n",
    "import math\n",
    "from decimal import Decimal\n",
    "import pprint\n",
    "from datetime import datetime, timedelta\n",
    "import time\n",
    "import json\n",
    "\n",
    "\n",
    "\n",
    "\n",
    "import plotly.graph_objects as go\n",
    "from plotly.subplots import make_subplots\n",
    "import plotly.express as px\n",
    "import copy\n",
    "import matplotlib.pyplot as plt\n",
    "from tqdm import tqdm\n",
    "\n",
    "\n",
    "import sys\n",
    "import os\n",
    "\n",
    "\n",
    "sys.path.append(os.path.split(os.getcwd())[0])\n",
    "\n",
    "\n",
    "from strategy.primitives import Fee, Token, Pool, TOKEN_DETAILS, POOLS, Token, SPACING\n",
    "from strategy.data import PoolDataUniV3, RawDataUniV3, SyntheticData, DownloaderRawDataUniV3\n",
    "from strategy.cross_validation import FolderSimple, CrossValidation\n",
    "\n",
    "\n",
    "from strategy.strategies import AbstractStrategy, Hold, UniV3Passive\n",
    "from strategy.portfolio import Portfolio\n",
    "from strategy.backtest import Backtest\n",
    "from strategy.positions import BiCurrencyPosition, UniV3Position\n",
    "from strategy.viewers import PotrfolioViewer, UniswapViewer, RebalanceViewer, LiquidityViewer\n",
    "\n",
    "from utilities.utilities import ConfigParser, get_db_connector, get_main_path"
   ]
  },
  {
   "cell_type": "code",
   "execution_count": 9,
   "id": "cd3863f4",
   "metadata": {},
   "outputs": [],
   "source": [
    "pool_num = 1\n",
    "pool = Pool(POOLS[pool_num]['token0'], POOLS[pool_num]['token1'], POOLS[pool_num]['fee'])"
   ]
  },
  {
   "cell_type": "markdown",
   "id": "de96e30f",
   "metadata": {},
   "source": [
    "# Binance"
   ]
  },
  {
   "cell_type": "code",
   "execution_count": 10,
   "id": "033f940c",
   "metadata": {},
   "outputs": [],
   "source": [
    "# https://python-binance.readthedocs.io/en/latest/\n",
    "from binance import Client"
   ]
  },
  {
   "cell_type": "code",
   "execution_count": 11,
   "id": "a169a9ed",
   "metadata": {},
   "outputs": [
    {
     "name": "stdout",
     "output_type": "stream",
     "text": [
      "start: 2022-03-18 14:32:35.312261\n",
      "finish: 2022-03-18 14:32:35.801551\n",
      "rows downloaded: 235\n",
      "mismatch timestamp rows:  0\n",
      "df shape (234, 2) saved to /root/aenik_ws/mellow-strategy-sdk/data/ETHBTC_1w_01-12-2010_01-03-2022.csv\n"
     ]
    }
   ],
   "source": [
    "from utilities.utilities import get_data_from_binance\n",
    "df = get_data_from_binance(\n",
    "    'ETHBTC',\n",
    "    '1w',\n",
    "    '01-12-2010',\n",
    "    '01-03-2022'\n",
    ")"
   ]
  },
  {
   "cell_type": "code",
   "execution_count": 12,
   "id": "b526d3c0",
   "metadata": {},
   "outputs": [
    {
     "data": {
      "text/html": [
       "<div>\n",
       "<style scoped>\n",
       "    .dataframe tbody tr th:only-of-type {\n",
       "        vertical-align: middle;\n",
       "    }\n",
       "\n",
       "    .dataframe tbody tr th {\n",
       "        vertical-align: top;\n",
       "    }\n",
       "\n",
       "    .dataframe thead th {\n",
       "        text-align: right;\n",
       "    }\n",
       "</style>\n",
       "<table border=\"1\" class=\"dataframe\">\n",
       "  <thead>\n",
       "    <tr style=\"text-align: right;\">\n",
       "      <th></th>\n",
       "      <th>timestamp</th>\n",
       "      <th>price</th>\n",
       "    </tr>\n",
       "  </thead>\n",
       "  <tbody>\n",
       "    <tr>\n",
       "      <th>0</th>\n",
       "      <td>2017-07-17</td>\n",
       "      <td>0.082241</td>\n",
       "    </tr>\n",
       "    <tr>\n",
       "      <th>1</th>\n",
       "      <td>2017-07-24</td>\n",
       "      <td>0.083533</td>\n",
       "    </tr>\n",
       "    <tr>\n",
       "      <th>2</th>\n",
       "      <td>2017-07-31</td>\n",
       "      <td>0.070109</td>\n",
       "    </tr>\n",
       "  </tbody>\n",
       "</table>\n",
       "</div>"
      ],
      "text/plain": [
       "   timestamp     price\n",
       "0 2017-07-17  0.082241\n",
       "1 2017-07-24  0.083533\n",
       "2 2017-07-31  0.070109"
      ]
     },
     "execution_count": 12,
     "metadata": {},
     "output_type": "execute_result"
    }
   ],
   "source": [
    "df.head(3)"
   ]
  },
  {
   "cell_type": "code",
   "execution_count": null,
   "id": "7937eaee",
   "metadata": {},
   "outputs": [],
   "source": [
    "intervals_fast = ['1h', '2h', '4h', '6h', '8h', '12h', '1d', '3d', '1w']\n",
    "intervals_slow = ['1m', '3m', '5m', '15m', '30m']\n",
    "\n",
    "pairs = ['ETHBTC', 'ETHUSDC', 'USDCUSDT', 'WBTCETH']\n",
    "\n",
    "for pair in pairs:\n",
    "    for interval in intervals_fast:\n",
    "        df = get_data_from_binance(\n",
    "            pair,\n",
    "            interval,\n",
    "            '01-12-2010',\n",
    "            '01-03-2022'\n",
    "        )"
   ]
  },
  {
   "cell_type": "code",
   "execution_count": null,
   "id": "c4e1b776",
   "metadata": {},
   "outputs": [],
   "source": [
    "for pair in pairs:\n",
    "    df = pd.read_csv(f'../data/{pair}_1w_01-12-2010_01-03-2022.csv', parse_dates=False)\n",
    "    df['timestamp'] = pd.to_datetime(df['timestamp'], format='%Y-%m-%d %H:%M:%S:%f')\n",
    "    df.set_index('timestamp').plot(title=pair)\n"
   ]
  },
  {
   "cell_type": "markdown",
   "id": "7ef59846",
   "metadata": {},
   "source": [
    "# SyntheticData"
   ]
  },
  {
   "cell_type": "code",
   "execution_count": 18,
   "id": "29f24483",
   "metadata": {},
   "outputs": [],
   "source": [
    "synth_data = SyntheticData(\n",
    "    pool=pool, \n",
    "    start_date='1-1-2022', \n",
    "    n_points=365, \n",
    "    init_price=1, \n",
    "    mu=0, \n",
    "    sigma=0.1, \n",
    "    seed=42\n",
    ").generate_data()"
   ]
  },
  {
   "cell_type": "code",
   "execution_count": 25,
   "id": "11182805",
   "metadata": {},
   "outputs": [
    {
     "data": {
      "text/plain": [
       "(True, True, (365, 4))"
      ]
     },
     "execution_count": 25,
     "metadata": {},
     "output_type": "execute_result"
    }
   ],
   "source": [
    "synth_data.mints is None, synth_data.burns is None, synth_data.swaps.shape"
   ]
  },
  {
   "cell_type": "markdown",
   "id": "158e4482",
   "metadata": {},
   "source": [
    "# Pool data"
   ]
  },
  {
   "cell_type": "code",
   "execution_count": 27,
   "id": "5f76f8c9",
   "metadata": {},
   "outputs": [
    {
     "name": "stdout",
     "output_type": "stream",
     "text": [
      "get burn\n",
      "saved to burn_WBTC_WETH_3000.csv\n",
      "get mint\n",
      "saved to mint_WBTC_WETH_3000.csv\n",
      "get swap\n",
      "saved to swap_WBTC_WETH_3000.csv\n"
     ]
    }
   ],
   "source": [
    "from strategy.data import DownloaderRawDataUniV3\n",
    "# ~5min, only the first time\n",
    "DownloaderRawDataUniV3().load_events(pool_num)\n",
    "# ~5min, only the first time\n",
    "# DownloaderRawDataUniV3().get_transactions()"
   ]
  },
  {
   "cell_type": "code",
   "execution_count": 29,
   "id": "c354b0ac",
   "metadata": {},
   "outputs": [],
   "source": [
    "from strategy.data import RawDataUniV3\n",
    "\n",
    "data = RawDataUniV3(pool).load_from_folder()"
   ]
  },
  {
   "cell_type": "code",
   "execution_count": 31,
   "id": "a9d49dcf",
   "metadata": {},
   "outputs": [
    {
     "data": {
      "text/plain": [
       "((11262, 11), (8307, 11), (64101, 15))"
      ]
     },
     "execution_count": 31,
     "metadata": {},
     "output_type": "execute_result"
    }
   ],
   "source": [
    "data.mints.shape, data.burns.shape, data.swaps.shape"
   ]
  }
 ],
 "metadata": {
  "kernelspec": {
   "display_name": "Python 3 (ipykernel)",
   "language": "python",
   "name": "python3"
  },
  "language_info": {
   "codemirror_mode": {
    "name": "ipython",
    "version": 3
   },
   "file_extension": ".py",
   "mimetype": "text/x-python",
   "name": "python",
   "nbconvert_exporter": "python",
   "pygments_lexer": "ipython3",
   "version": "3.8.10"
  }
 },
 "nbformat": 4,
 "nbformat_minor": 5
}
